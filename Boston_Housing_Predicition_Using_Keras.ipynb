{
  "nbformat": 4,
  "nbformat_minor": 0,
  "metadata": {
    "colab": {
      "name": "Boston Housing Predicition Using Keras.ipynb",
      "provenance": [],
      "collapsed_sections": []
    },
    "kernelspec": {
      "name": "python3",
      "display_name": "Python 3"
    },
    "language_info": {
      "name": "python"
    }
  },
  "cells": [
    {
      "cell_type": "markdown",
      "source": [
        "Load Tensorflow"
      ],
      "metadata": {
        "id": "0xsOIA4CuJh_"
      }
    },
    {
      "cell_type": "code",
      "execution_count": 1,
      "metadata": {
        "id": "Po1y_urZuGTu"
      },
      "outputs": [],
      "source": [
        "import tensorflow as tf"
      ]
    },
    {
      "cell_type": "code",
      "source": [
        "from sklearn.preprocessing import Normalizer"
      ],
      "metadata": {
        "id": "0wXwAoyxuN0O"
      },
      "execution_count": 3,
      "outputs": []
    },
    {
      "cell_type": "markdown",
      "source": [
        "Collect Data"
      ],
      "metadata": {
        "id": "u3JxiIEAuW5H"
      }
    },
    {
      "cell_type": "code",
      "source": [
        "(train_x,train_y),(_,_)=tf.keras.datasets.boston_housing.load_data(test_split=0)"
      ],
      "metadata": {
        "colab": {
          "base_uri": "https://localhost:8080/"
        },
        "id": "-vsP7-QbuWOM",
        "outputId": "1fe0052e-ad01-4f49-a4ca-28043d88a69b"
      },
      "execution_count": 4,
      "outputs": [
        {
          "output_type": "stream",
          "name": "stdout",
          "text": [
            "Downloading data from https://storage.googleapis.com/tensorflow/tf-keras-datasets/boston_housing.npz\n",
            "57344/57026 [==============================] - 0s 0us/step\n",
            "65536/57026 [==================================] - 0s 0us/step\n"
          ]
        }
      ]
    },
    {
      "cell_type": "code",
      "source": [
        "train_x=train_x.astype('float32')\n",
        "train_y=train_y.astype('float32')"
      ],
      "metadata": {
        "id": "ifKuzv7xufYj"
      },
      "execution_count": 6,
      "outputs": []
    },
    {
      "cell_type": "code",
      "source": [
        "transformer=Normalizer()\n",
        "train_x=transformer.fit_transform(train_x)"
      ],
      "metadata": {
        "id": "X7QDiRQuuoKC"
      },
      "execution_count": 7,
      "outputs": []
    },
    {
      "cell_type": "markdown",
      "source": [
        "Building the graph in Keras"
      ],
      "metadata": {
        "id": "TyNQXm4pu71n"
      }
    },
    {
      "cell_type": "code",
      "source": [
        "#Initialize Sequential Graph(model)\n",
        "model=tf.keras.Sequential()\n",
        "\n",
        "#Add Dense layer for prediciton- Keras declares weigths and bias automatically\n",
        "model.add(tf.keras.layers.Dense(1,input_shape=(13,)))\n",
        "\n",
        "#Compile the model add loss and gradient descent optimizer\n",
        "model.compile(optimizer='sgd',loss='mse')"
      ],
      "metadata": {
        "id": "4GyK9WnNu6cs"
      },
      "execution_count": 9,
      "outputs": []
    },
    {
      "cell_type": "markdown",
      "source": [
        "Execute The Graph"
      ],
      "metadata": {
        "id": "7AdnZjlEwKmR"
      }
    },
    {
      "cell_type": "code",
      "source": [
        "model.fit(train_x,train_y,epochs=100)"
      ],
      "metadata": {
        "colab": {
          "base_uri": "https://localhost:8080/"
        },
        "id": "_bmROsdpwKBI",
        "outputId": "75f05f2d-38df-4da2-8f92-185abf0515d4"
      },
      "execution_count": 12,
      "outputs": [
        {
          "output_type": "stream",
          "name": "stdout",
          "text": [
            "Epoch 1/100\n",
            "16/16 [==============================] - 0s 2ms/step - loss: 64.0899\n",
            "Epoch 2/100\n",
            "16/16 [==============================] - 0s 2ms/step - loss: 64.0484\n",
            "Epoch 3/100\n",
            "16/16 [==============================] - 0s 2ms/step - loss: 64.0708\n",
            "Epoch 4/100\n",
            "16/16 [==============================] - 0s 2ms/step - loss: 63.9925\n",
            "Epoch 5/100\n",
            "16/16 [==============================] - 0s 2ms/step - loss: 64.0443\n",
            "Epoch 6/100\n",
            "16/16 [==============================] - 0s 2ms/step - loss: 63.9995\n",
            "Epoch 7/100\n",
            "16/16 [==============================] - 0s 2ms/step - loss: 63.9513\n",
            "Epoch 8/100\n",
            "16/16 [==============================] - 0s 2ms/step - loss: 63.9262\n",
            "Epoch 9/100\n",
            "16/16 [==============================] - 0s 2ms/step - loss: 63.8889\n",
            "Epoch 10/100\n",
            "16/16 [==============================] - 0s 2ms/step - loss: 63.9222\n",
            "Epoch 11/100\n",
            "16/16 [==============================] - 0s 2ms/step - loss: 63.8905\n",
            "Epoch 12/100\n",
            "16/16 [==============================] - 0s 2ms/step - loss: 63.8881\n",
            "Epoch 13/100\n",
            "16/16 [==============================] - 0s 2ms/step - loss: 63.8824\n",
            "Epoch 14/100\n",
            "16/16 [==============================] - 0s 2ms/step - loss: 63.8609\n",
            "Epoch 15/100\n",
            "16/16 [==============================] - 0s 2ms/step - loss: 63.8113\n",
            "Epoch 16/100\n",
            "16/16 [==============================] - 0s 2ms/step - loss: 63.8090\n",
            "Epoch 17/100\n",
            "16/16 [==============================] - 0s 2ms/step - loss: 63.8362\n",
            "Epoch 18/100\n",
            "16/16 [==============================] - 0s 2ms/step - loss: 63.7785\n",
            "Epoch 19/100\n",
            "16/16 [==============================] - 0s 4ms/step - loss: 63.7535\n",
            "Epoch 20/100\n",
            "16/16 [==============================] - 0s 3ms/step - loss: 63.7385\n",
            "Epoch 21/100\n",
            "16/16 [==============================] - 0s 2ms/step - loss: 63.7538\n",
            "Epoch 22/100\n",
            "16/16 [==============================] - 0s 2ms/step - loss: 63.7403\n",
            "Epoch 23/100\n",
            "16/16 [==============================] - 0s 2ms/step - loss: 63.7384\n",
            "Epoch 24/100\n",
            "16/16 [==============================] - 0s 2ms/step - loss: 63.6954\n",
            "Epoch 25/100\n",
            "16/16 [==============================] - 0s 2ms/step - loss: 63.6594\n",
            "Epoch 26/100\n",
            "16/16 [==============================] - 0s 2ms/step - loss: 63.6863\n",
            "Epoch 27/100\n",
            "16/16 [==============================] - 0s 2ms/step - loss: 63.6731\n",
            "Epoch 28/100\n",
            "16/16 [==============================] - 0s 2ms/step - loss: 63.6621\n",
            "Epoch 29/100\n",
            "16/16 [==============================] - 0s 2ms/step - loss: 63.6852\n",
            "Epoch 30/100\n",
            "16/16 [==============================] - 0s 2ms/step - loss: 63.6473\n",
            "Epoch 31/100\n",
            "16/16 [==============================] - 0s 2ms/step - loss: 63.6494\n",
            "Epoch 32/100\n",
            "16/16 [==============================] - 0s 2ms/step - loss: 63.6311\n",
            "Epoch 33/100\n",
            "16/16 [==============================] - 0s 2ms/step - loss: 63.5833\n",
            "Epoch 34/100\n",
            "16/16 [==============================] - 0s 2ms/step - loss: 63.5860\n",
            "Epoch 35/100\n",
            "16/16 [==============================] - 0s 2ms/step - loss: 63.5318\n",
            "Epoch 36/100\n",
            "16/16 [==============================] - 0s 2ms/step - loss: 63.5356\n",
            "Epoch 37/100\n",
            "16/16 [==============================] - 0s 2ms/step - loss: 63.5250\n",
            "Epoch 38/100\n",
            "16/16 [==============================] - 0s 2ms/step - loss: 63.5328\n",
            "Epoch 39/100\n",
            "16/16 [==============================] - 0s 2ms/step - loss: 63.5073\n",
            "Epoch 40/100\n",
            "16/16 [==============================] - 0s 2ms/step - loss: 63.5332\n",
            "Epoch 41/100\n",
            "16/16 [==============================] - 0s 2ms/step - loss: 63.5022\n",
            "Epoch 42/100\n",
            "16/16 [==============================] - 0s 2ms/step - loss: 63.4846\n",
            "Epoch 43/100\n",
            "16/16 [==============================] - 0s 2ms/step - loss: 63.4599\n",
            "Epoch 44/100\n",
            "16/16 [==============================] - 0s 2ms/step - loss: 63.4459\n",
            "Epoch 45/100\n",
            "16/16 [==============================] - 0s 2ms/step - loss: 63.4414\n",
            "Epoch 46/100\n",
            "16/16 [==============================] - 0s 1ms/step - loss: 63.4406\n",
            "Epoch 47/100\n",
            "16/16 [==============================] - 0s 2ms/step - loss: 63.4318\n",
            "Epoch 48/100\n",
            "16/16 [==============================] - 0s 2ms/step - loss: 63.4165\n",
            "Epoch 49/100\n",
            "16/16 [==============================] - 0s 2ms/step - loss: 63.4212\n",
            "Epoch 50/100\n",
            "16/16 [==============================] - 0s 2ms/step - loss: 63.4182\n",
            "Epoch 51/100\n",
            "16/16 [==============================] - 0s 2ms/step - loss: 63.4291\n",
            "Epoch 52/100\n",
            "16/16 [==============================] - 0s 2ms/step - loss: 63.4347\n",
            "Epoch 53/100\n",
            "16/16 [==============================] - 0s 2ms/step - loss: 63.3950\n",
            "Epoch 54/100\n",
            "16/16 [==============================] - 0s 2ms/step - loss: 63.3668\n",
            "Epoch 55/100\n",
            "16/16 [==============================] - 0s 2ms/step - loss: 63.3412\n",
            "Epoch 56/100\n",
            "16/16 [==============================] - 0s 2ms/step - loss: 63.3100\n",
            "Epoch 57/100\n",
            "16/16 [==============================] - 0s 2ms/step - loss: 63.3218\n",
            "Epoch 58/100\n",
            "16/16 [==============================] - 0s 2ms/step - loss: 63.3335\n",
            "Epoch 59/100\n",
            "16/16 [==============================] - 0s 2ms/step - loss: 63.3186\n",
            "Epoch 60/100\n",
            "16/16 [==============================] - 0s 2ms/step - loss: 63.3097\n",
            "Epoch 61/100\n",
            "16/16 [==============================] - 0s 2ms/step - loss: 63.2854\n",
            "Epoch 62/100\n",
            "16/16 [==============================] - 0s 1ms/step - loss: 63.3402\n",
            "Epoch 63/100\n",
            "16/16 [==============================] - 0s 2ms/step - loss: 63.2930\n",
            "Epoch 64/100\n",
            "16/16 [==============================] - 0s 2ms/step - loss: 63.2695\n",
            "Epoch 65/100\n",
            "16/16 [==============================] - 0s 2ms/step - loss: 63.2325\n",
            "Epoch 66/100\n",
            "16/16 [==============================] - 0s 2ms/step - loss: 63.2437\n",
            "Epoch 67/100\n",
            "16/16 [==============================] - 0s 2ms/step - loss: 63.2255\n",
            "Epoch 68/100\n",
            "16/16 [==============================] - 0s 2ms/step - loss: 63.2456\n",
            "Epoch 69/100\n",
            "16/16 [==============================] - 0s 2ms/step - loss: 63.2397\n",
            "Epoch 70/100\n",
            "16/16 [==============================] - 0s 2ms/step - loss: 63.2335\n",
            "Epoch 71/100\n",
            "16/16 [==============================] - 0s 2ms/step - loss: 63.2212\n",
            "Epoch 72/100\n",
            "16/16 [==============================] - 0s 2ms/step - loss: 63.2305\n",
            "Epoch 73/100\n",
            "16/16 [==============================] - 0s 2ms/step - loss: 63.2014\n",
            "Epoch 74/100\n",
            "16/16 [==============================] - 0s 2ms/step - loss: 63.1780\n",
            "Epoch 75/100\n",
            "16/16 [==============================] - 0s 2ms/step - loss: 63.1596\n",
            "Epoch 76/100\n",
            "16/16 [==============================] - 0s 2ms/step - loss: 63.1593\n",
            "Epoch 77/100\n",
            "16/16 [==============================] - 0s 2ms/step - loss: 63.1920\n",
            "Epoch 78/100\n",
            "16/16 [==============================] - 0s 2ms/step - loss: 63.1459\n",
            "Epoch 79/100\n",
            "16/16 [==============================] - 0s 2ms/step - loss: 63.1490\n",
            "Epoch 80/100\n",
            "16/16 [==============================] - 0s 2ms/step - loss: 63.1782\n",
            "Epoch 81/100\n",
            "16/16 [==============================] - 0s 2ms/step - loss: 63.1350\n",
            "Epoch 82/100\n",
            "16/16 [==============================] - 0s 2ms/step - loss: 63.1015\n",
            "Epoch 83/100\n",
            "16/16 [==============================] - 0s 2ms/step - loss: 63.0877\n",
            "Epoch 84/100\n",
            "16/16 [==============================] - 0s 3ms/step - loss: 63.1029\n",
            "Epoch 85/100\n",
            "16/16 [==============================] - 0s 2ms/step - loss: 63.0806\n",
            "Epoch 86/100\n",
            "16/16 [==============================] - 0s 2ms/step - loss: 63.0453\n",
            "Epoch 87/100\n",
            "16/16 [==============================] - 0s 2ms/step - loss: 63.1425\n",
            "Epoch 88/100\n",
            "16/16 [==============================] - 0s 2ms/step - loss: 63.0945\n",
            "Epoch 89/100\n",
            "16/16 [==============================] - 0s 2ms/step - loss: 63.0956\n",
            "Epoch 90/100\n",
            "16/16 [==============================] - 0s 2ms/step - loss: 63.0408\n",
            "Epoch 91/100\n",
            "16/16 [==============================] - 0s 2ms/step - loss: 63.0566\n",
            "Epoch 92/100\n",
            "16/16 [==============================] - 0s 2ms/step - loss: 63.0887\n",
            "Epoch 93/100\n",
            "16/16 [==============================] - 0s 2ms/step - loss: 63.0228\n",
            "Epoch 94/100\n",
            "16/16 [==============================] - 0s 2ms/step - loss: 63.0344\n",
            "Epoch 95/100\n",
            "16/16 [==============================] - 0s 2ms/step - loss: 63.0161\n",
            "Epoch 96/100\n",
            "16/16 [==============================] - 0s 2ms/step - loss: 63.0267\n",
            "Epoch 97/100\n",
            "16/16 [==============================] - 0s 2ms/step - loss: 63.0355\n",
            "Epoch 98/100\n",
            "16/16 [==============================] - 0s 2ms/step - loss: 62.9635\n",
            "Epoch 99/100\n",
            "16/16 [==============================] - 0s 2ms/step - loss: 63.0022\n",
            "Epoch 100/100\n",
            "16/16 [==============================] - 0s 2ms/step - loss: 62.9899\n"
          ]
        },
        {
          "output_type": "execute_result",
          "data": {
            "text/plain": [
              "<keras.callbacks.History at 0x7fc093b01a50>"
            ]
          },
          "metadata": {},
          "execution_count": 12
        }
      ]
    },
    {
      "cell_type": "code",
      "source": [
        "model.summary()"
      ],
      "metadata": {
        "colab": {
          "base_uri": "https://localhost:8080/"
        },
        "id": "S9a2wR33wTR6",
        "outputId": "05c85c35-1117-4c24-c162-24aeea29a184"
      },
      "execution_count": 11,
      "outputs": [
        {
          "output_type": "stream",
          "name": "stdout",
          "text": [
            "Model: \"sequential_1\"\n",
            "_________________________________________________________________\n",
            " Layer (type)                Output Shape              Param #   \n",
            "=================================================================\n",
            " dense (Dense)               (None, 1)                 14        \n",
            "                                                                 \n",
            "=================================================================\n",
            "Total params: 14\n",
            "Trainable params: 14\n",
            "Non-trainable params: 0\n",
            "_________________________________________________________________\n"
          ]
        }
      ]
    },
    {
      "cell_type": "code",
      "source": [
        "model.get_weights()"
      ],
      "metadata": {
        "colab": {
          "base_uri": "https://localhost:8080/"
        },
        "id": "hH-phn3rwW1L",
        "outputId": "9976ee69-f02d-4f22-f7d9-77e503fbf02d"
      },
      "execution_count": 13,
      "outputs": [
        {
          "output_type": "execute_result",
          "data": {
            "text/plain": [
              "[array([[-1.3288624 ],\n",
              "        [ 6.993635  ],\n",
              "        [-1.1537689 ],\n",
              "        [ 0.13197209],\n",
              "        [ 0.38072842],\n",
              "        [ 0.336835  ],\n",
              "        [-1.6021974 ],\n",
              "        [ 0.06627721],\n",
              "        [ 0.0630188 ],\n",
              "        [-2.542456  ],\n",
              "        [-0.14709175],\n",
              "        [19.09136   ],\n",
              "        [-2.6352599 ]], dtype=float32), array([11.866937], dtype=float32)]"
            ]
          },
          "metadata": {},
          "execution_count": 13
        }
      ]
    },
    {
      "cell_type": "code",
      "source": [
        ""
      ],
      "metadata": {
        "id": "k_xF6fBXzHU2"
      },
      "execution_count": null,
      "outputs": []
    }
  ]
}